{
 "cells": [
  {
   "cell_type": "code",
   "execution_count": 11,
   "metadata": {},
   "outputs": [
    {
     "name": "stdout",
     "output_type": "stream",
     "text": [
      "0\n",
      "9\n",
      "(5, 'five')\n"
     ]
    }
   ],
   "source": [
    "## 큐 구현하기\n",
    "\n",
    "import queue\n",
    "\n",
    "q1 = queue.Queue()\n",
    "q2 = queue.LifoQueue()\n",
    "q3 = queue.PriorityQueue()\n",
    "\n",
    "for i in range(10):\n",
    "    q1.put(i)\n",
    "    q2.put(i)\n",
    "\n",
    "q3.put((10, \"ten\"))\n",
    "q3.put((5, \"five\"))\n",
    "q3.put((15, \"fifteen\"))\n",
    "\n",
    "print(q1.get())\n",
    "print(q2.get())\n",
    "print(q3.get())\n"
   ]
  },
  {
   "cell_type": "code",
   "execution_count": 6,
   "metadata": {},
   "outputs": [
    {
     "ename": "SyntaxError",
     "evalue": "unexpected character after line continuation character (<ipython-input-6-2599367a6dab>, line 19)",
     "output_type": "error",
     "traceback": [
      "\u001b[1;36m  File \u001b[1;32m\"<ipython-input-6-2599367a6dab>\"\u001b[1;36m, line \u001b[1;32m19\u001b[0m\n\u001b[1;33m    print(i\\b, end=' ')\u001b[0m\n\u001b[1;37m                       ^\u001b[0m\n\u001b[1;31mSyntaxError\u001b[0m\u001b[1;31m:\u001b[0m unexpected character after line continuation character\n"
     ]
    }
   ],
   "source": [
    "## 큐 함수 쓰지않고 구현하기\n",
    "\n",
    "list1 = list()\n",
    "\n",
    "def enqueue(data):\n",
    "    list1.append(data)\n",
    "\n",
    "def dequeue():\n",
    "    data = list1[0]\n",
    "    del list1[0]\n",
    "    return data\n",
    "\n",
    "for i in range(10):\n",
    "    enqueue(i)\n",
    "\n",
    "len(list1)\n",
    "dequeue()\n",
    "for i in list1:\n",
    "    print(i\\b, end=' ')"
   ]
  },
  {
   "cell_type": "code",
   "execution_count": 20,
   "metadata": {},
   "outputs": [
    {
     "name": "stdout",
     "output_type": "stream",
     "text": [
      "[0, 1, 2, 3, 4, 5, 6, 7, 8, 9]\n",
      "[0, 1, 2, 3, 4, 5, 6, 7, 8]\n"
     ]
    }
   ],
   "source": [
    "## 스택 사용하기\n",
    "\n",
    "stack = list()\n",
    "\n",
    "def push(data):\n",
    "    stack.append(data)\n",
    "\n",
    "def pop():\n",
    "    data = stack[-1]\n",
    "    del stack[-1]\n",
    "    return data\n",
    "\n",
    "for i in range(10):\n",
    "    push(i)\n",
    "    \n",
    "print(stack)\n",
    "pop()\n",
    "print(stack)"
   ]
  },
  {
   "cell_type": "code",
   "execution_count": null,
   "metadata": {},
   "outputs": [],
   "source": []
  }
 ],
 "metadata": {
  "kernelspec": {
   "display_name": "Python 3",
   "language": "python",
   "name": "python3"
  },
  "language_info": {
   "codemirror_mode": {
    "name": "ipython",
    "version": 3
   },
   "file_extension": ".py",
   "mimetype": "text/x-python",
   "name": "python",
   "nbconvert_exporter": "python",
   "pygments_lexer": "ipython3",
   "version": "3.7.6"
  }
 },
 "nbformat": 4,
 "nbformat_minor": 4
}
